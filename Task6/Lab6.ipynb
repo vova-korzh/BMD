{
 "cells": [
  {
   "cell_type": "code",
   "execution_count": 1,
   "metadata": {},
   "outputs": [],
   "source": [
    "from numpy.random import randint\n",
    "import seaborn as sns\n",
    "import pandas as pd\n",
    "import matplotlib.pyplot as plt"
   ]
  },
  {
   "cell_type": "code",
   "execution_count": 2,
   "metadata": {},
   "outputs": [
    {
     "data": {
      "text/html": [
       "<div>\n",
       "<style scoped>\n",
       "    .dataframe tbody tr th:only-of-type {\n",
       "        vertical-align: middle;\n",
       "    }\n",
       "\n",
       "    .dataframe tbody tr th {\n",
       "        vertical-align: top;\n",
       "    }\n",
       "\n",
       "    .dataframe thead th {\n",
       "        text-align: right;\n",
       "    }\n",
       "</style>\n",
       "<table border=\"1\" class=\"dataframe\">\n",
       "  <thead>\n",
       "    <tr style=\"text-align: right;\">\n",
       "      <th>Кількість пасажирів</th>\n",
       "      <th>Автобус 1</th>\n",
       "      <th>Автобус 2</th>\n",
       "    </tr>\n",
       "    <tr>\n",
       "      <th>Рейс</th>\n",
       "      <th></th>\n",
       "      <th></th>\n",
       "    </tr>\n",
       "  </thead>\n",
       "  <tbody>\n",
       "    <tr>\n",
       "      <th>9:00 - 11:00</th>\n",
       "      <td>50</td>\n",
       "      <td>28</td>\n",
       "    </tr>\n",
       "    <tr>\n",
       "      <th>11:00 - 13:00</th>\n",
       "      <td>27</td>\n",
       "      <td>34</td>\n",
       "    </tr>\n",
       "    <tr>\n",
       "      <th>13:00 - 15:00</th>\n",
       "      <td>39</td>\n",
       "      <td>39</td>\n",
       "    </tr>\n",
       "    <tr>\n",
       "      <th>15:00 - 17:00</th>\n",
       "      <td>22</td>\n",
       "      <td>37</td>\n",
       "    </tr>\n",
       "    <tr>\n",
       "      <th>17:00 - 19:00</th>\n",
       "      <td>48</td>\n",
       "      <td>46</td>\n",
       "    </tr>\n",
       "    <tr>\n",
       "      <th>19:00 - 21:00</th>\n",
       "      <td>51</td>\n",
       "      <td>42</td>\n",
       "    </tr>\n",
       "    <tr>\n",
       "      <th>21:00 - 23:00</th>\n",
       "      <td>33</td>\n",
       "      <td>58</td>\n",
       "    </tr>\n",
       "    <tr>\n",
       "      <th>23:00 - 01:00</th>\n",
       "      <td>28</td>\n",
       "      <td>29</td>\n",
       "    </tr>\n",
       "  </tbody>\n",
       "</table>\n",
       "</div>"
      ],
      "text/plain": [
       "Кількість пасажирів  Автобус 1  Автобус 2\n",
       "Рейс                                     \n",
       "9:00 - 11:00                50         28\n",
       "11:00 - 13:00               27         34\n",
       "13:00 - 15:00               39         39\n",
       "15:00 - 17:00               22         37\n",
       "17:00 - 19:00               48         46\n",
       "19:00 - 21:00               51         42\n",
       "21:00 - 23:00               33         58\n",
       "23:00 - 01:00               28         29"
      ]
     },
     "execution_count": 2,
     "metadata": {},
     "output_type": "execute_result"
    }
   ],
   "source": [
    "group1 = randint(20, 60, 8)\n",
    "group2 = randint(20, 60, 8)\n",
    "\n",
    "df = pd.DataFrame({\n",
    "    \"Автобус 1\": group1, \n",
    "    \"Автобус 2\": group2,\n",
    "    }, index = [\"9:00 - 11:00\", \"11:00 - 13:00\",\"13:00 - 15:00\", \"15:00 - 17:00\", \"17:00 - 19:00\", \"19:00 - 21:00\", \"21:00 - 23:00\", \"23:00 - 01:00\"])\n",
    "\n",
    "df.index.name = 'Рейс'\n",
    "df.columns.name = 'Кількість пасажирів'\n",
    "df"
   ]
  },
  {
   "cell_type": "code",
   "execution_count": 3,
   "metadata": {},
   "outputs": [
    {
     "data": {
      "text/plain": [
       "[]"
      ]
     },
     "execution_count": 3,
     "metadata": {},
     "output_type": "execute_result"
    },
    {
     "data": {
      "image/png": "[encoded data removed]",
      "text/plain": [
       "<Figure size 432x288 with 1 Axes>"
      ]
     },
     "metadata": {
      "needs_background": "light"
     },
     "output_type": "display_data"
    }
   ],
   "source": [
    "sns.boxplot(data = df, orient = 'h').set()"
   ]
  },
  {
   "cell_type": "code",
   "execution_count": 5,
   "metadata": {},
   "outputs": [],
   "source": [
    "def Pirson(x, y):\n",
    "    n = len(x)\n",
    "    r = ( sum(x * y) - n * (sum(x)/n) * (sum(y)/n) ) / ( n * ( ( ( sum(x**2)/n - (sum(x)/n)**2 ) * ( sum(y**2)/n - (sum(y)/n)**2) ) )**(1/2) )\n",
    "    print(\"Значення коефіцієнту кореляції: \" + str(r))\n",
    "    \n",
    "    df = n - 2\n",
    "    print(\"Значення ступеня свободи: \" + str(df))\n",
    "    \n",
    "    read = pd.read_excel(\"CriticalTable.xlsx\")\n",
    "    table = read.loc[df - 1, 0.05]\n",
    "    print(\"Критичне значення коефіцієнту кореляції = \" + str(table))\n",
    "    \n",
    "    if abs(r) > table:\n",
    "        result = \"significant\"\n",
    "        print(\"Результат оцінки значимості зв'зку: \" + result)\n",
    "    else:\n",
    "        result = \"not significant\"\n",
    "        print(\"Результат оцінки значимості зв'зку: \" + result)\n",
    "    \n",
    "    return r, df, result"
   ]
  },
  {
   "cell_type": "code",
   "execution_count": 8,
   "metadata": {},
   "outputs": [],
   "source": [
    "def Student(x, y):\n",
    "    d = x - y\n",
    "    n = len(x)\n",
    "    M = d.mean()\n",
    "    sigma = d.std()\n",
    "    t = (M/sigma) * (n)**(1/2)\n",
    "    print(\"Значення t-критерію Стьюдента: t = \"  + str(t))\n",
    "    \n",
    "    df = n - 1\n",
    "    print('Значення ступеня свободи: df = ' + str(df))\n",
    "    \n",
    "    read = pd.read_excel(\"CriticalTable.xlsx\")\n",
    "    table = read.loc[df - 1, 0.05]\n",
    "    print(\"Критичне значення коефіцієнту Стьюдента = \" + str(table))\n",
    "    \n",
    "    if abs(t) > table:\n",
    "        result = \"significant\"\n",
    "        print(\"Результат оцінки значимості зв'зку: \" + result)\n",
    "    else:\n",
    "        result = \"not significant\"\n",
    "        print(\"Результат оцінки значимості зв'зку: \" + result)\n",
    "    \n",
    "    return t, df, result"
   ]
  },
  {
   "cell_type": "code",
   "execution_count": 10,
   "metadata": {},
   "outputs": [
    {
     "name": "stdout",
     "output_type": "stream",
     "text": [
      "Значення коефіцієнту кореляції: 0.08932918947638802\n",
      "Значення ступеня свободи: 6\n",
      "Критичне значення коефіцієнту кореляції = 2.447\n",
      "Результат оцінки значимості зв'зку: not significant\n"
     ]
    },
    {
     "data": {
      "text/plain": [
       "(0.08932918947638802, 6, 'not significant')"
      ]
     },
     "execution_count": 10,
     "metadata": {},
     "output_type": "execute_result"
    }
   ],
   "source": [
    "Pirson(group1, group2)\n"
   ]
  },
  {
   "cell_type": "code",
   "execution_count": 9,
   "metadata": {},
   "outputs": [
    {
     "name": "stdout",
     "output_type": "stream",
     "text": [
      "Значення t-критерію Стьюдента: t = -0.3951646670439883\n",
      "Значення ступеня свободи: df = 7\n",
      "Критичне значення коефіцієнту Стьюдента = 2.365\n",
      "Результат оцінки значимості зв'зку: not significant\n"
     ]
    },
    {
     "data": {
      "text/plain": [
       "(-0.3951646670439883, 7, 'not significant')"
      ]
     },
     "execution_count": 9,
     "metadata": {},
     "output_type": "execute_result"
    }
   ],
   "source": [
    "Student(group1, group2)"
   ]
  }
 ],
 "metadata": {
  "kernelspec": {
   "display_name": "Python 3",
   "language": "python",
   "name": "python3"
  },
  "language_info": {
   "codemirror_mode": {
    "name": "ipython",
    "version": 3
   },
   "file_extension": ".py",
   "mimetype": "text/x-python",
   "name": "python",
   "nbconvert_exporter": "python",
   "pygments_lexer": "ipython3",
   "version": "3.8.2"
  }
 },
 "nbformat": 4,
 "nbformat_minor": 4
}
