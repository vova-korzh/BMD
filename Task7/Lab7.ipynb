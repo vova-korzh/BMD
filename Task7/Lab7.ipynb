{
 "cells": [
  {
   "cell_type": "code",
   "execution_count": 1,
   "metadata": {},
   "outputs": [],
   "source": [
    "import pandas as pd  \n",
    "import seaborn as sns\n",
    "import numpy as np\n",
    "import matplotlib.pyplot as mp  \n",
    "import math  \n",
    "%matplotlib inline"
   ]
  },
  {
   "cell_type": "code",
   "execution_count": 3,
   "metadata": {},
   "outputs": [
    {
     "data": {
      "text/html": [
       "<div>\n",
       "<style scoped>\n",
       "    .dataframe tbody tr th:only-of-type {\n",
       "        vertical-align: middle;\n",
       "    }\n",
       "\n",
       "    .dataframe tbody tr th {\n",
       "        vertical-align: top;\n",
       "    }\n",
       "\n",
       "    .dataframe thead th {\n",
       "        text-align: right;\n",
       "    }\n",
       "</style>\n",
       "<table border=\"1\" class=\"dataframe\">\n",
       "  <thead>\n",
       "    <tr style=\"text-align: right;\">\n",
       "      <th></th>\n",
       "      <th>male height</th>\n",
       "      <th>female height</th>\n",
       "    </tr>\n",
       "  </thead>\n",
       "  <tbody>\n",
       "    <tr>\n",
       "      <th>0</th>\n",
       "      <td>167.933673</td>\n",
       "      <td>166.157630</td>\n",
       "    </tr>\n",
       "    <tr>\n",
       "      <th>1</th>\n",
       "      <td>140.830589</td>\n",
       "      <td>166.745688</td>\n",
       "    </tr>\n",
       "    <tr>\n",
       "      <th>2</th>\n",
       "      <td>177.585351</td>\n",
       "      <td>151.672616</td>\n",
       "    </tr>\n",
       "    <tr>\n",
       "      <th>3</th>\n",
       "      <td>146.667206</td>\n",
       "      <td>165.256735</td>\n",
       "    </tr>\n",
       "    <tr>\n",
       "      <th>4</th>\n",
       "      <td>182.595579</td>\n",
       "      <td>145.366116</td>\n",
       "    </tr>\n",
       "    <tr>\n",
       "      <th>5</th>\n",
       "      <td>170.441323</td>\n",
       "      <td>184.175633</td>\n",
       "    </tr>\n",
       "    <tr>\n",
       "      <th>6</th>\n",
       "      <td>205.490190</td>\n",
       "      <td>178.069230</td>\n",
       "    </tr>\n",
       "  </tbody>\n",
       "</table>\n",
       "</div>"
      ],
      "text/plain": [
       "   male height  female height\n",
       "0   167.933673     166.157630\n",
       "1   140.830589     166.745688\n",
       "2   177.585351     151.672616\n",
       "3   146.667206     165.256735\n",
       "4   182.595579     145.366116\n",
       "5   170.441323     184.175633\n",
       "6   205.490190     178.069230"
      ]
     },
     "execution_count": 3,
     "metadata": {},
     "output_type": "execute_result"
    }
   ],
   "source": [
    "df = pd.DataFrame ( {\n",
    "    'male height': np.random.normal(172, 20, 101),\n",
    "    'female height': np.random.normal(166, 20, 101),\n",
    "}) \n",
    "\n",
    "df.head(7)"
   ]
  },
  {
   "cell_type": "code",
   "execution_count": 5,
   "metadata": {},
   "outputs": [
    {
     "data": {
      "text/plain": [
       "[Text(0.5, 0, 'random')]"
      ]
     },
     "execution_count": 5,
     "metadata": {},
     "output_type": "execute_result"
    },
    {
     "data": {
      "image/png": "[encoded data removed]",
      "text/plain": [
       "<Figure size 432x288 with 1 Axes>"
      ]
     },
     "metadata": {
      "needs_background": "light"
     },
     "output_type": "display_data"
    }
   ],
   "source": [
    "sns.boxplot(data = df, orient = 'h').set(xlabel='random')"
   ]
  },
  {
   "cell_type": "code",
   "execution_count": 7,
   "metadata": {},
   "outputs": [],
   "source": [
    "def levene(data):\n",
    "    df = len(data) - 1\n",
    "    std1 = np.std(data.iloc[:,0])\n",
    "    std2 = np.std(data.iloc[:,1])\n",
    "    F = std1**2/std2**2 if(std1 > std2) else std2**2/std1**2\n",
    "    krit_levene = pd.read_excel(\"Лівеня.xlsx\")\n",
    "    if (df > 20):\n",
    "        F_table = krit_levene.iloc[21,12]\n",
    "    elif (df > 15):\n",
    "        F_table = krit_levene.iloc[df,11]\n",
    "    elif (df > 15):\n",
    "        F_table = krit_levene.iloc[df,10]\n",
    "    else:\n",
    "        F_table = krit_levene.iloc[df,df]\n",
    "    return df, F, \"Significiant\" if (F < F_table) else \"Not significant\""
   ]
  },
  {
   "cell_type": "code",
   "execution_count": 8,
   "metadata": {},
   "outputs": [],
   "source": [
    "def student(data, liven_sig):\n",
    "    mean1 = np.mean(data.iloc[:,0])\n",
    "    mean2 = np.mean(data.iloc[:,1])\n",
    "    std1 = np.std(data.iloc[:,0])\n",
    "    std2 = np.std(data.iloc[:,1])\n",
    "    n = len(data)\n",
    "    df = n+n-2\n",
    "    if (liven_sig == \"Significiant\"):\n",
    "        t = abs(mean1 - mean2)/np.sqrt(std1**2/n + std2**2/n)\n",
    "    else:\n",
    "        t = abs(mean1 - mean2)/np.sqrt((((n-1)*std1**2+(n-1)*std2**2)/df) * (1/n + 1/n))\n",
    "    student_table = pd.read_excel(\"Стьюдента.xlsx\")\n",
    "    table_t = 0\n",
    "    for i in range(len(student_table)):\n",
    "        if(df < int(student_table.iloc[i,0])):\n",
    "            if(df != student_table.iloc[i-1,0]):\n",
    "                if((student_table.iloc[i,0]-df) >= abs(student_table.iloc[i-1,0]-df)):\n",
    "                    table_t = student_table.iloc[i-1,1]\n",
    "                else: \n",
    "                    table_t = student_table.iloc[i,1]\n",
    "                break\n",
    "            else:\n",
    "                table_t = student_table.iloc[i-1,1]\n",
    "                break\n",
    "    return df, t, \"Significiant\" if (t < table_t) else \"Not significant\""
   ]
  },
  {
   "cell_type": "code",
   "execution_count": 9,
   "metadata": {},
   "outputs": [
    {
     "data": {
      "text/plain": [
       "(100, 1.172826039830687, 'Significiant')"
      ]
     },
     "execution_count": 9,
     "metadata": {},
     "output_type": "execute_result"
    }
   ],
   "source": [
    "levene(df)\n"
   ]
  },
  {
   "cell_type": "code",
   "execution_count": 10,
   "metadata": {},
   "outputs": [
    {
     "data": {
      "text/plain": [
       "(200, 2.085096224761883, 'Not significant')"
      ]
     },
     "execution_count": 10,
     "metadata": {},
     "output_type": "execute_result"
    }
   ],
   "source": [
    "student(df, levene(df)[2])"
   ]
  }
 ],
 "metadata": {
  "kernelspec": {
   "display_name": "Python 3",
   "language": "python",
   "name": "python3"
  },
  "language_info": {
   "codemirror_mode": {
    "name": "ipython",
    "version": 3
   },
   "file_extension": ".py",
   "mimetype": "text/x-python",
   "name": "python",
   "nbconvert_exporter": "python",
   "pygments_lexer": "ipython3",
   "version": "3.8.2"
  }
 },
 "nbformat": 4,
 "nbformat_minor": 4
}
