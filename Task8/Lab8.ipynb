{
 "cells": [
  {
   "cell_type": "code",
   "execution_count": 1,
   "metadata": {},
   "outputs": [],
   "source": [
    "import pandas as pd  \n",
    "import numpy as np \n",
    "import matplotlib.pyplot as mp  \n",
    "import math  \n",
    "%matplotlib inline"
   ]
  },
  {
   "cell_type": "code",
   "execution_count": 5,
   "metadata": {},
   "outputs": [
    {
     "data": {
      "text/html": [
       "<div>\n",
       "<style scoped>\n",
       "    .dataframe tbody tr th:only-of-type {\n",
       "        vertical-align: middle;\n",
       "    }\n",
       "\n",
       "    .dataframe tbody tr th {\n",
       "        vertical-align: top;\n",
       "    }\n",
       "\n",
       "    .dataframe thead th {\n",
       "        text-align: right;\n",
       "    }\n",
       "</style>\n",
       "<table border=\"1\" class=\"dataframe\">\n",
       "  <thead>\n",
       "    <tr style=\"text-align: right;\">\n",
       "      <th></th>\n",
       "      <th>Ukranian</th>\n",
       "      <th>Math</th>\n",
       "      <th>physics</th>\n",
       "    </tr>\n",
       "  </thead>\n",
       "  <tbody>\n",
       "    <tr>\n",
       "      <th>0</th>\n",
       "      <td>167.0</td>\n",
       "      <td>151.0</td>\n",
       "      <td>180.0</td>\n",
       "    </tr>\n",
       "    <tr>\n",
       "      <th>1</th>\n",
       "      <td>196.0</td>\n",
       "      <td>174.0</td>\n",
       "      <td>163.0</td>\n",
       "    </tr>\n",
       "    <tr>\n",
       "      <th>2</th>\n",
       "      <td>170.0</td>\n",
       "      <td>141.0</td>\n",
       "      <td>192.0</td>\n",
       "    </tr>\n",
       "    <tr>\n",
       "      <th>3</th>\n",
       "      <td>146.0</td>\n",
       "      <td>182.0</td>\n",
       "      <td>158.0</td>\n",
       "    </tr>\n",
       "    <tr>\n",
       "      <th>4</th>\n",
       "      <td>205.0</td>\n",
       "      <td>148.0</td>\n",
       "      <td>154.0</td>\n",
       "    </tr>\n",
       "    <tr>\n",
       "      <th>5</th>\n",
       "      <td>126.0</td>\n",
       "      <td>139.0</td>\n",
       "      <td>149.0</td>\n",
       "    </tr>\n",
       "    <tr>\n",
       "      <th>6</th>\n",
       "      <td>169.0</td>\n",
       "      <td>168.0</td>\n",
       "      <td>162.0</td>\n",
       "    </tr>\n",
       "    <tr>\n",
       "      <th>7</th>\n",
       "      <td>146.0</td>\n",
       "      <td>140.0</td>\n",
       "      <td>186.0</td>\n",
       "    </tr>\n",
       "    <tr>\n",
       "      <th>8</th>\n",
       "      <td>198.0</td>\n",
       "      <td>186.0</td>\n",
       "      <td>142.0</td>\n",
       "    </tr>\n",
       "    <tr>\n",
       "      <th>9</th>\n",
       "      <td>180.0</td>\n",
       "      <td>189.0</td>\n",
       "      <td>175.0</td>\n",
       "    </tr>\n",
       "  </tbody>\n",
       "</table>\n",
       "</div>"
      ],
      "text/plain": [
       "   Ukranian   Math  physics\n",
       "0     167.0  151.0    180.0\n",
       "1     196.0  174.0    163.0\n",
       "2     170.0  141.0    192.0\n",
       "3     146.0  182.0    158.0\n",
       "4     205.0  148.0    154.0\n",
       "5     126.0  139.0    149.0\n",
       "6     169.0  168.0    162.0\n",
       "7     146.0  140.0    186.0\n",
       "8     198.0  186.0    142.0\n",
       "9     180.0  189.0    175.0"
      ]
     },
     "execution_count": 5,
     "metadata": {},
     "output_type": "execute_result"
    }
   ],
   "source": [
    "data =  pd.DataFrame ( {\n",
    "    'Ukranian': np.around(np.random.normal(160,20,10)), \n",
    "    'Math':  np.around(np.random.normal(160,20,10)), \n",
    "    'physics': np.around(np.random.normal(160,20,10)),\n",
    "})  \n",
    "\n",
    "data"
   ]
  },
  {
   "cell_type": "code",
   "execution_count": 6,
   "metadata": {},
   "outputs": [
    {
     "data": {
      "text/html": [
       "<div>\n",
       "<style scoped>\n",
       "    .dataframe tbody tr th:only-of-type {\n",
       "        vertical-align: middle;\n",
       "    }\n",
       "\n",
       "    .dataframe tbody tr th {\n",
       "        vertical-align: top;\n",
       "    }\n",
       "\n",
       "    .dataframe thead th {\n",
       "        text-align: right;\n",
       "    }\n",
       "</style>\n",
       "<table border=\"1\" class=\"dataframe\">\n",
       "  <thead>\n",
       "    <tr style=\"text-align: right;\">\n",
       "      <th></th>\n",
       "      <th>mean</th>\n",
       "      <th>standard deviation</th>\n",
       "    </tr>\n",
       "  </thead>\n",
       "  <tbody>\n",
       "    <tr>\n",
       "      <th>Ukranian</th>\n",
       "      <td>170.3</td>\n",
       "      <td>24.253041</td>\n",
       "    </tr>\n",
       "    <tr>\n",
       "      <th>Math</th>\n",
       "      <td>161.8</td>\n",
       "      <td>19.119623</td>\n",
       "    </tr>\n",
       "    <tr>\n",
       "      <th>physics</th>\n",
       "      <td>166.1</td>\n",
       "      <td>15.655351</td>\n",
       "    </tr>\n",
       "  </tbody>\n",
       "</table>\n",
       "</div>"
      ],
      "text/plain": [
       "           mean  standard deviation\n",
       "Ukranian  170.3           24.253041\n",
       "Math      161.8           19.119623\n",
       "physics   166.1           15.655351"
      ]
     },
     "execution_count": 6,
     "metadata": {},
     "output_type": "execute_result"
    }
   ],
   "source": [
    "c_names=list(data.columns) \n",
    "first_values=np.array(data[c_names[0]]) \n",
    "second_values=np.array(data[c_names[1]]) \n",
    "third_values=np.array(data[c_names[2]])  \n",
    "\n",
    "\n",
    "n_data= pd.DataFrame({'mean' : {'Ukranian': np.mean(first_values), 'Math' :np.mean(second_values),'physics':np.mean(third_values)},\n",
    "        'standard deviation': {'Ukranian':np.std(first_values), 'Math':np.std(second_values),'physics':np.std(third_values)}, \n",
    "                     }) \n",
    "n_data"
   ]
  },
  {
   "cell_type": "code",
   "execution_count": 7,
   "metadata": {},
   "outputs": [
    {
     "data": {
      "image/png": "[encoded data removed]",
      "text/plain": [
       "<Figure size 432x288 with 1 Axes>"
      ]
     },
     "metadata": {
      "needs_background": "light"
     },
     "output_type": "display_data"
    }
   ],
   "source": [
    "mp.boxplot(data, vert=True,patch_artist=True);"
   ]
  },
  {
   "cell_type": "code",
   "execution_count": 9,
   "metadata": {},
   "outputs": [],
   "source": [
    "def take_column_data(data): \n",
    "    arr_with_val=[]\n",
    "    c_names=list(data.columns) \n",
    "    for val in range(len(c_names)):\n",
    "        arr_with_val.append(np.array(data[c_names[val]]))\n",
    "    return arr_with_val\n",
    "\n",
    "def get_T_range(data):\n",
    "    arr_with_val=take_column_data(data)\n",
    "    arr_with_summ=list(map(np.sum,arr_with_val))   \n",
    "    arr_with_T_summ =list(map(lambda x:x*x,arr_with_summ))\n",
    "    F_T=np.sum(arr_with_T_summ)\n",
    "    return arr_with_summ, F_T \n",
    "\n",
    "def get_n(data): \n",
    "    n=int(len(data))\n",
    "    return n \n",
    "\n",
    "def get_c():\n",
    "    c=int(len(data.columns))\n",
    "    return c\n",
    "\n",
    "def get_N():\n",
    "    n=get_n(data)\n",
    "    n_of_columns=get_c()\n",
    "    N= n*n_of_columns\n",
    "    return N\n",
    "\n",
    "def get_the_square_of_the_total(): \n",
    "    col_meanings=get_T_range(data)[0]\n",
    "    square_of_the_total=np.power(np.sum(col_meanings),2)\n",
    "    return square_of_the_total\n",
    "   \n",
    "def get_sum_squar_ind_val():\n",
    "    col_meanings=np.array(take_column_data(data)).flatten()\n",
    "    s_squar_ind_val=float(sum((list(map(lambda x:x*x,col_meanings)))))\n",
    "    return s_squar_ind_val"
   ]
  },
  {
   "cell_type": "code",
   "execution_count": 11,
   "metadata": {},
   "outputs": [],
   "source": [
    "def get_SS_intra_group(): #SSфакт\n",
    "    S_F=get_T_range(data)[1]\n",
    "    n=get_n(data)\n",
    "    square_of_the_total_x=get_the_square_of_the_total()\n",
    "    N=get_N()\n",
    "    SS_fa=(S_F/n)-(square_of_the_total_x/N)\n",
    "    return SS_fa"
   ]
  },
  {
   "cell_type": "code",
   "execution_count": 13,
   "metadata": {},
   "outputs": [],
   "source": [
    "def get_SS_total_group(): #SSзаг\n",
    "    s_sq_ind_val=get_sum_squar_ind_val() \n",
    "    square_of_the_total_x=get_the_square_of_the_total()\n",
    "    N=get_N() \n",
    "    SS_total_group=float(s_sq_ind_val - (square_of_the_total_x/N))\n",
    "    return SS_total_group"
   ]
  },
  {
   "cell_type": "code",
   "execution_count": 14,
   "metadata": {},
   "outputs": [],
   "source": [
    "def get_SS_accidentally():\n",
    "    SS_total_gr=get_SS_total_group() #SSзаг\n",
    "    SS_intr_gr=get_SS_intra_group() #SSфакт\n",
    "    SS_accid=SS_total_gr-SS_intr_gr\n",
    "    return SS_accid "
   ]
  },
  {
   "cell_type": "code",
   "execution_count": 15,
   "metadata": {},
   "outputs": [],
   "source": [
    "def get_d_fact():\n",
    "    c=get_c()\n",
    "    d_fact=int(c-1)\n",
    "    return d_fact"
   ]
  },
  {
   "cell_type": "code",
   "execution_count": 16,
   "metadata": {},
   "outputs": [],
   "source": [
    "def get_d_comm():\n",
    "    N=get_N()\n",
    "    d_comm=N-1\n",
    "    return d_comm"
   ]
  },
  {
   "cell_type": "code",
   "execution_count": 17,
   "metadata": {},
   "outputs": [],
   "source": [
    "def get_d_accidentally():\n",
    "    d_fact=get_d_fact()\n",
    "    d_comm=get_d_comm() \n",
    "    d_acc=d_comm-d_fact\n",
    "    return d_acc"
   ]
  },
  {
   "cell_type": "code",
   "execution_count": 18,
   "metadata": {},
   "outputs": [],
   "source": [
    "def get_MS_SS_fact():\n",
    "    SS_fact=get_SS_intra_group()\n",
    "    d_fact=get_d_fact() \n",
    "    MS_SS_fact=SS_fact/d_fact \n",
    "    return MS_SS_fact"
   ]
  },
  {
   "cell_type": "code",
   "execution_count": 19,
   "metadata": {},
   "outputs": [
    {
     "data": {
      "text/plain": [
       "444.0222222222214"
      ]
     },
     "execution_count": 19,
     "metadata": {},
     "output_type": "execute_result"
    }
   ],
   "source": [
    "def get_MS_SS_accidentally():\n",
    "    SS_acc=get_SS_accidentally()\n",
    "    d_acc=get_d_accidentally() \n",
    "    MS_SS_acc=SS_acc/d_acc \n",
    "    return MS_SS_acc\n",
    "\n",
    "get_MS_SS_accidentally()"
   ]
  },
  {
   "cell_type": "code",
   "execution_count": 20,
   "metadata": {},
   "outputs": [
    {
     "data": {
      "text/plain": [
       "0.40681147089741443"
      ]
     },
     "execution_count": 20,
     "metadata": {},
     "output_type": "execute_result"
    }
   ],
   "source": [
    "def get_F_emp():\n",
    "    MS_SS_fact=get_MS_SS_fact()\n",
    "    MS_SS_acc=get_MS_SS_accidentally() \n",
    "    F_emp=(MS_SS_fact)/(MS_SS_acc)\n",
    "    return F_emp \n",
    "\n",
    "get_F_emp()"
   ]
  },
  {
   "cell_type": "code",
   "execution_count": 22,
   "metadata": {},
   "outputs": [
    {
     "name": "stdout",
     "output_type": "stream",
     "text": [
      "1\n"
     ]
    }
   ],
   "source": [
    "def get_F_crit(): \n",
    "    f_up=round(get_MS_SS_fact()) \n",
    "    f_down=round(get_MS_SS_accidentally()) \n",
    "    F_values=pd.read_excel(\"Фішера.xlsx\")   \n",
    "    if(f_up>40 and f_down>130):\n",
    "        return F_values.iloc[31,14] \n",
    "    elif(f_down>31):\n",
    "        return F_values.iloc[f_up,14] \n",
    "    elif(f_up>40): \n",
    "        return F_values.iloc[31,f_down] \n",
    "    else:\n",
    "        return F_values.iloc[f_up,f_down] \n",
    "    \n",
    "\n",
    "print(get_F_crit())"
   ]
  },
  {
   "cell_type": "code",
   "execution_count": 23,
   "metadata": {},
   "outputs": [
    {
     "name": "stdout",
     "output_type": "stream",
     "text": [
      "The averages of independent groups are  equal\n"
     ]
    }
   ],
   "source": [
    "def conclusion():\n",
    "    F_em=get_F_emp()\n",
    "    F_crit=get_F_crit() \n",
    "    if(F_em>F_crit):\n",
    "        print('The averages of independent groups are not equal')\n",
    "    else:\n",
    "        print(\"The averages of independent groups are  equal\")\n",
    "    \n",
    "conclusion()"
   ]
  },
  {
   "cell_type": "code",
   "execution_count": 24,
   "metadata": {},
   "outputs": [
    {
     "name": "stdout",
     "output_type": "stream",
     "text": [
      "   Intragroup Variance  Groupwide Variance  Residual variance  \\\n",
      "0           361.266667        12349.866667            11988.6   \n",
      "\n",
      "   The number of degrees of freedom (fact)  \\\n",
      "0                                        2   \n",
      "\n",
      "   The number of degrees of freedom (comm)  \\\n",
      "0                                       29   \n",
      "\n",
      "   The number of degrees of freedom (accident)   MS actual  MS accidentally  \\\n",
      "0                                           27  180.633333       444.022222   \n",
      "\n",
      "     F empr  F tabl  \n",
      "0  0.406811       1  \n"
     ]
    }
   ],
   "source": [
    "def out():\n",
    "    counted_data = pd.DataFrame({\n",
    "        'Intragroup Variance':get_SS_intra_group(), \n",
    "        'Groupwide Variance':get_SS_total_group(), \n",
    "        \"Residual variance\":  get_SS_accidentally(), \n",
    "        \"The number of degrees of freedom (fact)\":pd.Series(get_d_fact()), \n",
    "        \"The number of degrees of freedom (comm)\":pd.Series(get_d_comm()), \n",
    "        \"The number of degrees of freedom (accident)\":pd.Series(get_d_accidentally()), \n",
    "        \"MS actual\":get_MS_SS_fact(), \n",
    "        \"MS accidentally\":get_MS_SS_accidentally(), \n",
    "        'F empr':get_F_emp(), \n",
    "        'F tabl':get_F_crit(),\n",
    "    }) \n",
    "    \n",
    "    print(counted_data)\n",
    "    \n",
    "out()"
   ]
  }
 ],
 "metadata": {
  "kernelspec": {
   "display_name": "Python 3",
   "language": "python",
   "name": "python3"
  },
  "language_info": {
   "codemirror_mode": {
    "name": "ipython",
    "version": 3
   },
   "file_extension": ".py",
   "mimetype": "text/x-python",
   "name": "python",
   "nbconvert_exporter": "python",
   "pygments_lexer": "ipython3",
   "version": "3.8.2"
  }
 },
 "nbformat": 4,
 "nbformat_minor": 4
}
